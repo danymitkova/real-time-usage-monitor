{
 "cells": [
  {
   "cell_type": "markdown",
   "id": "4c13c11c",
   "metadata": {},
   "source": [
    "# Anomaly Exploration\n",
    "Isolation Forest on aggregated events."
   ]
  }
 ],
 "metadata": {},
 "nbformat": 4,
 "nbformat_minor": 5
}
